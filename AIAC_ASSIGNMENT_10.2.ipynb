{
  "nbformat": 4,
  "nbformat_minor": 0,
  "metadata": {
    "colab": {
      "provenance": []
    },
    "kernelspec": {
      "name": "python3",
      "display_name": "Python 3"
    },
    "language_info": {
      "name": "python"
    }
  },
  "cells": [
    {
      "cell_type": "markdown",
      "source": [
        "TEXT-1"
      ],
      "metadata": {
        "id": "qGcNhVr0tUzp"
      }
    },
    {
      "cell_type": "code",
      "execution_count": 2,
      "metadata": {
        "colab": {
          "base_uri": "https://localhost:8080/"
        },
        "id": "i3IDL_b-sYBZ",
        "outputId": "eedcdb1c-ef88-4e7b-b568-799a89f17743"
      },
      "outputs": [
        {
          "output_type": "stream",
          "name": "stdout",
          "text": [
            "The factorial of 5 is 120\n",
            "BIG Number\n"
          ]
        }
      ],
      "source": [
        "# Function to calculate factorial\n",
        "def calcFact(n):\n",
        "    result = 1\n",
        "    # Loop should include n, so use range(1, n+1)\n",
        "    for i in range(1, n + 1):\n",
        "        result *= i\n",
        "    return result\n",
        "# Main program logic\n",
        "def main():\n",
        "    num = 5\n",
        "    # Calculate the factorial of 'num' using the calcFact function\n",
        "    FACT = calcFact(num)\n",
        "    # Print the result\n",
        "    print(\"The factorial of\", num, \"is\", FACT)\n",
        "    # Check if factorial is greater than 10\n",
        "    if FACT > 10:\n",
        "        print(\"BIG Number\")\n",
        "    else:\n",
        "        print(\"small number\")\n",
        "# Call the main function to execute the program\n",
        "main()"
      ]
    },
    {
      "cell_type": "markdown",
      "source": [
        "TEXT-2"
      ],
      "metadata": {
        "id": "4865SGpjxjbR"
      }
    },
    {
      "cell_type": "code",
      "source": [
        "# Function to generate Fibonacci series up to a given count\n",
        "def generate_fibonacci_series(count):\n",
        "    first = 0\n",
        "    second = 1\n",
        "    index = 2  # Starting index since first two numbers are predefined\n",
        "    fibonacci_sequence = [first, second]  # Initialize with first two Fibonacci numbers\n",
        "\n",
        "    while index < count:\n",
        "        next_number = first + second\n",
        "        fibonacci_sequence.append(next_number)\n",
        "        first = second\n",
        "        second = next_number\n",
        "        index += 1\n",
        "    return fibonacci_sequence\n",
        "# Set the number of terms to generate\n",
        "num_terms = 10\n",
        "# Generate and print the Fibonacci series\n",
        "fibonacci_result = generate_fibonacci_series(num_terms)\n",
        "print(\"Fibonacci series up to\", num_terms, \"terms:\", fibonacci_result)"
      ],
      "metadata": {
        "colab": {
          "base_uri": "https://localhost:8080/"
        },
        "id": "52lcbWgZttzJ",
        "outputId": "f1714891-6539-4d57-e132-5ef18712aad2"
      },
      "execution_count": 3,
      "outputs": [
        {
          "output_type": "stream",
          "name": "stdout",
          "text": [
            "Fibonacci series up to 10 terms: [0, 1, 1, 2, 3, 5, 8, 13, 21, 34]\n"
          ]
        }
      ]
    },
    {
      "cell_type": "markdown",
      "source": [
        "TEXT-3"
      ],
      "metadata": {
        "id": "jkbvgIiKxnAO"
      }
    },
    {
      "cell_type": "code",
      "metadata": {
        "colab": {
          "base_uri": "https://localhost:8080/"
        },
        "id": "d9b7ab07",
        "outputId": "272bd234-3761-474b-868a-1bfd2bf45594"
      },
      "source": [
        "def add(x, y):\n",
        "    \"\"\"\n",
        "    Adds two numbers.\n",
        "    Parameters\n",
        "    ----------\n",
        "    x : float\n",
        "        The first number.\n",
        "    y : float\n",
        "        The second number.\n",
        "    Returns\n",
        "    -------\n",
        "    float\n",
        "        The sum of x and y.\n",
        "    \"\"\"\n",
        "    return x + y\n",
        "def subtract(x, y):\n",
        "    \"\"\"\n",
        "    Subtracts the second number from the first.\n",
        "    Parameters\n",
        "    ----------\n",
        "    x : float\n",
        "        The first number.\n",
        "    y : float\n",
        "        The second number.\n",
        "    Returns\n",
        "    -------\n",
        "    float\n",
        "        The difference between x and y.\n",
        "    \"\"\"\n",
        "    return x - y\n",
        "def multiply(x, y):\n",
        "    \"\"\"\n",
        "    Multiplies two numbers.\n",
        "    Parameters\n",
        "    ----------\n",
        "    x : float\n",
        "        The first number.\n",
        "    y : float\n",
        "        The second number.\n",
        "    Returns\n",
        "    -------\n",
        "    float\n",
        "        The product of x and y.\n",
        "    \"\"\"\n",
        "    return x * y\n",
        "def divide(x, y):\n",
        "    \"\"\"\n",
        "    Divides the first number by the second.\n",
        "    Parameters\n",
        "    ----------\n",
        "    x : float\n",
        "        The first number (dividend).\n",
        "    y : float\n",
        "        The second number (divisor).\n",
        "    Returns\n",
        "    -------\n",
        "    float\n",
        "        The quotient of x divided by y.\n",
        "    Raises\n",
        "    ------\n",
        "    ZeroDivisionError\n",
        "        If the divisor (y) is zero.\n",
        "    \"\"\"\n",
        "    if y == 0:\n",
        "        raise ZeroDivisionError(\"Cannot divide by zero!\")\n",
        "    return x / y\n",
        "# Get input from the user\n",
        "try:\n",
        "    num1 = float(input(\"Enter first number: \"))\n",
        "    num2 = float(input(\"Enter second number: \"))\n",
        "    print(\"Select operation:\")\n",
        "    print(\"1. Add\")\n",
        "    print(\"2. Subtract\")\n",
        "    print(\"3. Multiply\")\n",
        "    print(\"4. Divide\")\n",
        "    choice = input(\"Enter choice(1/2/3/4): \")\n",
        "    if choice == '1':\n",
        "        print(f\"{num1} + {num2} = {add(num1, num2)}\")\n",
        "    elif choice == '2':\n",
        "        print(f\"{num1} - {num2} = {subtract(num1, num2)}\")\n",
        "    elif choice == '3':\n",
        "        print(f\"{num1} * {num2} = {multiply(num1, num2)}\")\n",
        "    elif choice == '4':\n",
        "        print(f\"{num1} / {num2} = {divide(num1, num2)}\")\n",
        "    else:\n",
        "        print(\"Invalid Input\")\n",
        "except ValueError:\n",
        "    print(\"Invalid input. Please enter numbers.\")\n",
        "except ZeroDivisionError as e:\n",
        "    print(e)"
      ],
      "execution_count": 4,
      "outputs": [
        {
          "output_type": "stream",
          "name": "stdout",
          "text": [
            "Enter first number: 7\n",
            "Enter second number: 8\n",
            "Select operation:\n",
            "1. Add\n",
            "2. Subtract\n",
            "3. Multiply\n",
            "4. Divide\n",
            "Enter choice(1/2/3/4): 2\n",
            "7.0 - 8.0 = -1.0\n"
          ]
        }
      ]
    }
  ]
}